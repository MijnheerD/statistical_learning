{
 "cells": [
  {
   "cell_type": "markdown",
   "metadata": {},
   "source": [
    "## PCA on microbial communities dataset\n",
    "\n",
    "https://www.nature.com/articles/nature24460\n",
    "http://enterotype.embl.de/MetaHIT_SangerSamples.genus.txt\n",
    "tutorial --- http://enterotype.embl.de/enterotypes.html"
   ]
  },
  {
   "cell_type": "code",
   "execution_count": 2,
   "metadata": {},
   "outputs": [],
   "source": [
    "import numpy as np\n",
    "import matplotlib\n",
    "# the following line is only because my python installation is not neat... \n",
    "matplotlib.use('tkagg')\n",
    "import matplotlib.pyplot as plt"
   ]
  },
  {
   "cell_type": "code",
   "execution_count": 12,
   "metadata": {},
   "outputs": [
    {
     "name": "stdout",
     "output_type": "stream",
     "text": [
      "248\n"
     ]
    }
   ],
   "source": [
    "file = './data/MetaHIT_SangerSamplesgenus.txt'\n",
    "f = open(file, 'r')\n",
    "names = []\n",
    "for line in f:\n",
    "    if line.split(None, 1)[0] != '#':\n",
    "        names.append(line.split(None, 1)[0]) # add only first word\n",
    "f.close()\n",
    "columnsnames=names\n",
    "\n",
    "print(len(names))\n",
    "\n",
    "namelines=['x'] * len(names)\n",
    "bacteria_names=np.genfromtxt(file,dtype='str',usecols=0)\n",
    "\n",
    "\n",
    "samples_names=['AM-F10-T1','AM-F10-T2','DA-AD-1','DA-AD-2','DA-AD-3','DA-AD-4','ES-AD-1','ES-AD-2','ES-AD-3','ES-AD-4','FR-AD-1','FR-AD-2','FR-AD-3','FR-AD-4','FR-AD-5','FR-AD-6','FR-AD-7','FR-AD-8','IT-AD-1','IT-AD-2','IT-AD-3','IT-AD-4','IT-AD-5','IT-AD-6','JP-AD-1','JP-AD-2','JP-AD-3','JP-AD-4','JP-AD-5','JP-AD-6','JP-AD-7','JP-AD-8','JP-AD-9']\n"
   ]
  },
  {
   "cell_type": "code",
   "execution_count": 4,
   "metadata": {},
   "outputs": [
    {
     "name": "stdout",
     "output_type": "stream",
     "text": [
      "original shape of data (33, 248)\n"
     ]
    }
   ],
   "source": [
    "matrixX= (np.genfromtxt(file)[:,1:]).T\n",
    "numb_points=np.shape(matrixX)[0]#samples\n",
    "numb_variables=np.shape(matrixX)[1]#number of variables measured per sample\n",
    "print('original shape of data',np.shape(matrixX))"
   ]
  },
  {
   "cell_type": "code",
   "execution_count": 5,
   "metadata": {},
   "outputs": [
    {
     "name": "stdout",
     "output_type": "stream",
     "text": [
      "('original shape of data', (33, 248))\n",
      "('ind', array([ 66,  81,  90,  91, 112, 119, 135, 138, 146, 147, 150, 151, 152,\n",
      "       153, 155, 156, 175, 177, 178, 180, 182, 184, 185, 201, 203, 205,\n",
      "       206, 238, 243, 245]))\n",
      "('rarefied shape of data', (33, 30))\n"
     ]
    },
    {
     "data": {
      "text/plain": [
       "array([[0.00000e+00, 7.22100e-05, 1.41520e-04, 0.00000e+00],\n",
       "       [6.58000e-06, 3.61745e-03, 1.23483e-03, 0.00000e+00],\n",
       "       [3.15020e-03, 9.71900e-05, 4.40500e-05, 0.00000e+00],\n",
       "       [4.00686e-03, 4.10300e-05, 2.12751e-03, 2.19000e-05]])"
      ]
     },
     "execution_count": 5,
     "metadata": {},
     "output_type": "execute_result"
    }
   ],
   "source": [
    "import matplotlib.pyplot as plt\n",
    "import numpy as np\n",
    "\n",
    "#'black box'\n",
    "from sklearn import datasets\n",
    "from sklearn.decomposition import PCA\n",
    "from sklearn.discriminant_analysis import LinearDiscriminantAnalysis\n",
    "#from sklearn.lda import LDA\n",
    "#http://scikit-learn.sourceforge.net/dev/auto_examples/decomposition/plot_pca_vs_lda.html#example-decomposition-plot-pca-vs-lda-py\n",
    "\n",
    "matrixX= (np.genfromtxt('./data/MetaHIT_SangerSamplesgenus.txt')[:,1:]).T\n",
    "numb_points=np.shape(matrixX)[0]#samples\n",
    "numb_variables=np.shape(matrixX)[1]#number of variables measured per sample\n",
    "print('original shape of data',np.shape(matrixX))\n",
    "colmeanX=np.mean(matrixX,axis=0)\n",
    "\n",
    "\n",
    "indices= np.array([])\n",
    "for kk in range(numb_variables):\n",
    "    #rowSums(Matrix)*100/(sum(rowSums(Matrix))) > percent \n",
    "    if colmeanX[kk]*100/np.sum(colmeanX)>.2:\n",
    "        indices=xp=np.append(indices,kk)\n",
    "indices=np.int_(indices)\n",
    "print('ind',indices)\n",
    "matrixX=matrixX[:,indices]\n",
    "print('rarefied shape of data',np.shape(matrixX))\n",
    "colmeanX=np.mean(matrixX,axis=0)\n",
    "numb_variables=np.shape(matrixX)[1] \n",
    "\n",
    "\n",
    "matrixX[0:4,0:4]\n"
   ]
  },
  {
   "cell_type": "code",
   "execution_count": 5,
   "metadata": {},
   "outputs": [
    {
     "name": "stdout",
     "output_type": "stream",
     "text": [
      "numb_points 33\n",
      "numb_variables 248\n"
     ]
    }
   ],
   "source": [
    "numb_points=np.shape(matrixX)[0]\n",
    "numb_variables=np.shape(matrixX)[1]\n",
    "print('numb_points',numb_points)\n",
    "print('numb_variables',numb_variables)\n",
    "\n",
    "colmeanX=np.mean(matrixX,axis=0)\n",
    "\n",
    "temp= np.repeat([colmeanX],[numb_points],axis=0).T\n",
    "\n",
    "matrixXN=matrixX - np.repeat([colmeanX],[numb_points],axis=0)\n",
    "\n",
    "\n",
    "matrixM = np.dot(matrixXN.T,matrixXN)/numb_points\n",
    "\n"
   ]
  },
  {
   "cell_type": "code",
   "execution_count": 6,
   "metadata": {},
   "outputs": [],
   "source": [
    "eigvalsX, eigvectX = np.linalg.eig(matrixM)"
   ]
  },
  {
   "cell_type": "markdown",
   "metadata": {},
   "source": [
    "Check that the eigenvectors are placed in columns in eigvectX"
   ]
  },
  {
   "cell_type": "code",
   "execution_count": 7,
   "metadata": {},
   "outputs": [
    {
     "name": "stdout",
     "output_type": "stream",
     "text": [
      "[ 0.+0.j  0.+0.j  0.+0.j -0.+0.j -0.+0.j  0.+0.j  0.+0.j -0.+0.j  0.+0.j\n",
      "  0.+0.j -0.+0.j -0.+0.j -0.+0.j  0.+0.j -0.+0.j  0.+0.j -0.+0.j  0.+0.j\n",
      " -0.+0.j  0.+0.j -0.+0.j -0.+0.j  0.+0.j -0.+0.j -0.+0.j -0.+0.j -0.+0.j\n",
      " -0.+0.j  0.+0.j  0.+0.j  0.+0.j  0.+0.j -0.+0.j -0.+0.j -0.+0.j -0.+0.j\n",
      "  0.+0.j -0.+0.j -0.+0.j -0.+0.j -0.+0.j -0.+0.j  0.+0.j  0.+0.j -0.+0.j\n",
      " -0.+0.j -0.+0.j  0.+0.j -0.+0.j -0.+0.j  0.+0.j  0.+0.j -0.+0.j -0.+0.j\n",
      " -0.+0.j  0.+0.j -0.+0.j -0.+0.j -0.+0.j -0.+0.j -0.+0.j -0.+0.j  0.+0.j\n",
      " -0.+0.j -0.+0.j -0.+0.j  0.+0.j  0.+0.j  0.+0.j -0.+0.j  0.+0.j -0.+0.j\n",
      " -0.+0.j -0.+0.j  0.+0.j -0.+0.j -0.+0.j -0.+0.j -0.+0.j -0.+0.j -0.+0.j\n",
      " -0.+0.j -0.+0.j -0.+0.j -0.+0.j -0.+0.j -0.+0.j -0.+0.j -0.+0.j  0.+0.j\n",
      " -0.+0.j -0.+0.j -0.+0.j  0.+0.j -0.+0.j -0.+0.j -0.+0.j -0.+0.j -0.+0.j\n",
      " -0.+0.j  0.+0.j -0.+0.j  0.+0.j -0.+0.j -0.+0.j -0.+0.j -0.+0.j -0.+0.j\n",
      " -0.+0.j -0.+0.j -0.+0.j -0.+0.j  0.+0.j -0.+0.j -0.+0.j -0.+0.j  0.+0.j\n",
      " -0.+0.j -0.+0.j -0.+0.j -0.+0.j  0.+0.j -0.+0.j  0.+0.j  0.+0.j  0.+0.j\n",
      " -0.+0.j  0.+0.j -0.+0.j -0.+0.j -0.+0.j  0.+0.j  0.+0.j  0.+0.j  0.+0.j\n",
      "  0.+0.j  0.+0.j -0.+0.j  0.+0.j -0.+0.j -0.+0.j -0.+0.j -0.+0.j  0.+0.j\n",
      "  0.+0.j -0.+0.j  0.+0.j -0.+0.j  0.+0.j -0.+0.j -0.+0.j -0.+0.j -0.+0.j\n",
      " -0.+0.j  0.+0.j -0.+0.j -0.+0.j  0.+0.j  0.+0.j -0.+0.j -0.+0.j -0.+0.j\n",
      "  0.+0.j  0.+0.j -0.+0.j  0.+0.j -0.+0.j  0.+0.j -0.+0.j -0.+0.j -0.+0.j\n",
      " -0.+0.j -0.+0.j -0.+0.j -0.+0.j -0.+0.j -0.+0.j -0.+0.j -0.+0.j  0.+0.j\n",
      " -0.+0.j -0.+0.j  0.+0.j  0.+0.j -0.+0.j  0.+0.j  0.+0.j -0.+0.j  0.+0.j\n",
      "  0.+0.j -0.+0.j -0.+0.j  0.+0.j  0.+0.j -0.+0.j -0.+0.j -0.+0.j -0.+0.j\n",
      "  0.+0.j -0.+0.j  0.+0.j -0.+0.j -0.+0.j -0.+0.j -0.+0.j  0.+0.j -0.+0.j\n",
      " -0.+0.j -0.+0.j -0.+0.j  0.+0.j -0.+0.j  0.+0.j -0.+0.j  0.+0.j  0.+0.j\n",
      "  0.+0.j -0.+0.j -0.+0.j -0.+0.j -0.+0.j  0.+0.j -0.+0.j -0.+0.j -0.+0.j\n",
      "  0.+0.j -0.+0.j -0.+0.j -0.+0.j -0.+0.j  0.+0.j -0.+0.j -0.+0.j -0.+0.j\n",
      "  0.+0.j -0.+0.j -0.+0.j -0.+0.j -0.+0.j -0.+0.j -0.+0.j -0.+0.j  0.+0.j\n",
      " -0.+0.j  0.+0.j -0.+0.j -0.+0.j  0.+0.j]\n"
     ]
    }
   ],
   "source": [
    "shouldbezero = np.dot(matrixM,eigvectX[:,0])-eigvalsX[0]*eigvectX[:,0]\n",
    "\n",
    "with np.printoptions(precision=5, suppress=True):\n",
    "    print(shouldbezero)"
   ]
  },
  {
   "cell_type": "markdown",
   "metadata": {},
   "source": [
    "Define the matrix to change coordinates to principal components (PC) - the \"z\" coordinates"
   ]
  },
  {
   "cell_type": "code",
   "execution_count": 8,
   "metadata": {},
   "outputs": [],
   "source": [
    "coordchange=(eigvectX.real)\n",
    "#invcoordchange=np.linalg.inv(coordchange)\n",
    "matrixZ=np.dot(matrixXN, coordchange)\n"
   ]
  },
  {
   "cell_type": "markdown",
   "metadata": {},
   "source": [
    "Compute the covariance matrix in the PC : it should be diagonal"
   ]
  },
  {
   "cell_type": "code",
   "execution_count": 9,
   "metadata": {},
   "outputs": [
    {
     "name": "stdout",
     "output_type": "stream",
     "text": [
      "[[ 0.019  0.     0.     0.    -0.     0.     0.     0.    -0.    -0.   ]\n",
      " [ 0.     0.009 -0.    -0.     0.    -0.    -0.     0.     0.     0.   ]\n",
      " [-0.    -0.     0.002  0.     0.    -0.     0.    -0.    -0.    -0.   ]\n",
      " [ 0.    -0.     0.     0.002 -0.    -0.    -0.     0.     0.     0.   ]\n",
      " [-0.     0.     0.    -0.     0.001 -0.    -0.     0.     0.     0.   ]\n",
      " [ 0.    -0.    -0.    -0.     0.     0.001 -0.    -0.     0.    -0.   ]\n",
      " [ 0.    -0.     0.    -0.    -0.     0.     0.     0.     0.     0.   ]\n",
      " [ 0.     0.    -0.     0.     0.    -0.     0.     0.     0.     0.   ]\n",
      " [ 0.     0.    -0.     0.     0.     0.    -0.     0.     0.    -0.   ]\n",
      " [-0.     0.    -0.     0.     0.    -0.     0.     0.    -0.     0.   ]]\n"
     ]
    }
   ],
   "source": [
    "SigmaZ = np.dot(coordchange.T,np.dot(matrixM,coordchange))\n",
    "\n",
    "with np.printoptions(precision=3, suppress=True):\n",
    "    print(SigmaZ[0:10,0:10])\n"
   ]
  },
  {
   "cell_type": "markdown",
   "metadata": {
    "collapsed": true
   },
   "source": [
    "Let us plot data in a 2d plane (spanneed by pca1 and pca2)"
   ]
  },
  {
   "cell_type": "code",
   "execution_count": 10,
   "metadata": {},
   "outputs": [
    {
     "data": {
      "text/plain": [
       "-0.25923543214928635"
      ]
     },
     "execution_count": 10,
     "metadata": {},
     "output_type": "execute_result"
    }
   ],
   "source": [
    "matrixZ[:,0]\n",
    "min(matrixZ[:,0])\n",
    "min(matrixZ[:,1])"
   ]
  },
  {
   "cell_type": "code",
   "execution_count": 13,
   "metadata": {},
   "outputs": [],
   "source": [
    "linesnames=samples_names\n",
    "\n",
    "fig , ax1 = plt.subplots(figsize=(9*1.5,7*1.5))\n",
    "\n",
    "ax1.set_title('Principal component analysis of gut microbial dataset')\n",
    "#plot the points in the PCA plane:\n",
    "for kk in range(numb_points):\n",
    "    ax1.annotate(linesnames[kk],(matrixZ[kk,0],matrixZ[kk,1]), fontsize=8,ha='center')\n",
    "#ploting 1x \n",
    "#plt.arrow(0,0,invcoordchange[0,0], invcoordchange[1,0],head_width=.5, head_length=.05,overhang=10,length_includes_head=True,fill=False)\n",
    "#plt.annotate('1x', xy=(invcoordchange[0,0], invcoordchange[1,0]), xytext=(invcoordchange[0,0], -2+invcoordchange[1,0]),arrowprops=dict(facecolor='blue', arrowstyle=\"->\"),)\n",
    "\n",
    "ax1.set_xlim(min(matrixZ[:,0])*1.2,max(matrixZ[:,0])*1.2)\n",
    "ax1.set_ylim(min(matrixZ[:,1])*1.2,max(matrixZ[:,1])*1.2)\n",
    "\n",
    "ax1.set_xlabel('First Principal Component')\n",
    "ax1.set_ylabel('Second Principal Component')\n",
    "    \n",
    "# Plot Principal Component loading vectors, using a second y-axis.\n",
    "\n",
    "\n",
    "#plt.plot(np.array([0, invcoordchange[0,1]]),np.array([0,invcoordchange[1,1]]),color='b')\n",
    "#plt.annotate('1y', xy=(invcoordchange[0,1], invcoordchange[1,1]), xytext=(invcoordchange[0,1], 2+invcoordchange[1,1]),arrowprops=dict(facecolor='black', arrowstyle=\"->\"),)\n",
    "#other options for arrows: shrink=0.001,width=2,\n",
    "plt.savefig('gutdata.pdf')\n",
    "#plt.show()"
   ]
  },
  {
   "cell_type": "markdown",
   "metadata": {
    "collapsed": true
   },
   "source": [
    "Percentage of the variance explained by the various pca components "
   ]
  },
  {
   "cell_type": "code",
   "execution_count": 14,
   "metadata": {},
   "outputs": [],
   "source": [
    "totalvar = np.sum(np.diag(SigmaZ))\n"
   ]
  },
  {
   "cell_type": "code",
   "execution_count": null,
   "metadata": {},
   "outputs": [],
   "source": [
    "pve = np.diag(SigmaZ)/totalvar\n",
    "pve_cum = np.array([np.sum(pve[0:(kk+1)]) for kk in range(numb_variables)])\n"
   ]
  },
  {
   "cell_type": "code",
   "execution_count": 26,
   "metadata": {},
   "outputs": [],
   "source": [
    "plt.plot(pve,'x')\n",
    "plt.ylim([0,1.2])\n",
    "plt.savefig('pve_gut.pdf')\n"
   ]
  },
  {
   "cell_type": "code",
   "execution_count": 34,
   "metadata": {},
   "outputs": [],
   "source": [
    "#function defined to change the 'ticks' on the x-axis\n",
    "def format_func(value, tick_number):\n",
    "    # find number of multiples of pi/2\n",
    "    N = int(value) #int(np.round(2 * value / np.pi))\n",
    "    return \"pca\"+str(N+1)\n",
    "subsample = [0,1,2,3]\n",
    "fig, ax = plt.subplots()\n",
    "plt.plot(pve[subsample],'-o', label='Individual component')\n",
    "plt.plot(pve_cum[subsample], '-s', label='Cumulative')\n",
    "plt.title('Percentage of the variance explained')\n",
    "plt.xlim(-.1,3.1)\n",
    "plt.ylim(-.1,1.1)\n",
    "ax.xaxis.set_major_locator(plt.MultipleLocator(1))\n",
    "ax.xaxis.set_major_formatter(plt.FuncFormatter(format_func))\n",
    "plt.legend(loc=3)\n",
    "plt.savefig('pcve.pdf')\n",
    "\n"
   ]
  }
 ],
 "metadata": {
  "anaconda-cloud": {},
  "kernelspec": {
   "display_name": "Python 3",
   "language": "python",
   "name": "python3"
  },
  "language_info": {
   "codemirror_mode": {
    "name": "ipython",
    "version": 3
   },
   "file_extension": ".py",
   "mimetype": "text/x-python",
   "name": "python",
   "nbconvert_exporter": "python",
   "pygments_lexer": "ipython3",
   "version": "3.7.3"
  }
 },
 "nbformat": 4,
 "nbformat_minor": 2
}
