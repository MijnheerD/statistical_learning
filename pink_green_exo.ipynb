{
 "cells": [
  {
   "cell_type": "markdown",
   "metadata": {},
   "source": [
    "## Linear discriminant : pink vs green"
   ]
  },
  {
   "cell_type": "code",
   "execution_count": null,
   "metadata": {
    "collapsed": false
   },
   "outputs": [],
   "source": [
    "import numpy as np\n",
    "import matplotlib\n",
    "# the following line is only because my python installation is not neat... \n",
    "matplotlib.use('tkagg')\n",
    "import matplotlib.pyplot as plt"
   ]
  },
  {
   "cell_type": "markdown",
   "metadata": {},
   "source": [
    "The dataset is generated:"
   ]
  },
  {
   "cell_type": "code",
   "execution_count": null,
   "metadata": {
    "collapsed": true
   },
   "outputs": [],
   "source": [
    "mu_p = 2\n",
    "mu_g = -2\n",
    "sigma = 1\n",
    "number_points = 20\n",
    "pink = np.random.normal(mu_p,sigma,number_points)\n",
    "green = np.random.normal(mu_g,sigma,number_points)\n",
    "n = 2*number_points"
   ]
  },
  {
   "cell_type": "markdown",
   "metadata": {},
   "source": [
    "Estimate of the means for both categories: "
   ]
  },
  {
   "cell_type": "code",
   "execution_count": null,
   "metadata": {
    "collapsed": true
   },
   "outputs": [],
   "source": [
    "mu_p_hat=\n",
    "mu_g_hat="
   ]
  },
  {
   "cell_type": "markdown",
   "metadata": {},
   "source": [
    "Estimate the variance for both categories, and for 'sigma^2' (see slides):"
   ]
  },
  {
   "cell_type": "code",
   "execution_count": null,
   "metadata": {
    "collapsed": false
   },
   "outputs": [],
   "source": [
    "sigma_hat = "
   ]
  },
  {
   "cell_type": "code",
   "execution_count": null,
   "metadata": {
    "collapsed": false
   },
   "outputs": [],
   "source": [
    "sigma_hat"
   ]
  },
  {
   "cell_type": "markdown",
   "metadata": {},
   "source": [
    "Estimate pi_green and pi_pink: "
   ]
  },
  {
   "cell_type": "code",
   "execution_count": null,
   "metadata": {
    "collapsed": true
   },
   "outputs": [],
   "source": [
    "pi_green = \n",
    "pi_pink = "
   ]
  },
  {
   "cell_type": "markdown",
   "metadata": {},
   "source": [
    "Find the boundary value for decision: "
   ]
  },
  {
   "cell_type": "code",
   "execution_count": null,
   "metadata": {
    "collapsed": false
   },
   "outputs": [],
   "source": [
    "#writting delta_pink = delta_green gives us the boundary value for an new observation \n",
    "#to be classified as green or pink \n",
    "\n",
    "x_boundary = \n",
    "x_boundary"
   ]
  },
  {
   "cell_type": "code",
   "execution_count": null,
   "metadata": {
    "collapsed": false
   },
   "outputs": [],
   "source": [
    "training_data = np.concatenate((green,pink),axis=0)\n",
    "min_data = np.min(training_data)\n",
    "min_data"
   ]
  },
  {
   "cell_type": "markdown",
   "metadata": {},
   "source": [
    "Plot the histogram (just need to have defined x_boundary and the plotting will work):"
   ]
  },
  {
   "cell_type": "code",
   "execution_count": null,
   "metadata": {
    "collapsed": false
   },
   "outputs": [],
   "source": [
    "rng = np.random.RandomState(10)  # deterministic random data\n",
    "bins=np.linspace(-20,20,100)\n",
    "bins=np.append(bins,np.max([np.max(pink),np.max(green)]))\n",
    "a = np.hstack((pink,green))\n",
    "plt.ylim(top=np.max(bins))\n",
    "y1, x1,_ = plt.hist(pink, bins='auto',alpha=.4,color='pink',label='pink histogram')  # alpha level => transparent color (in case histog. overlap)\n",
    "y2, x2,_ = plt.hist(green,bins='auto',alpha=.4,color='green',label='green histogram')\n",
    "plt.ylim([0,1.1*np.max(np.array([y1,y2]))])\n",
    "plt.axvline(x_boundary,label='boundary value')\n",
    "plt.title(\"Histogram\")\n",
    "plt.legend(loc='upper right')\n",
    "plt.show()"
   ]
  },
  {
   "cell_type": "markdown",
   "metadata": {},
   "source": [
    "# LOOCV (illustration)\n",
    "\n",
    "Because the sampling of the pink and green distributions above do not overlap, the estimation of the test MSE will be very good. For the purpose of the exercise, we will use pink and green distributions with means values -1 and 1. \n"
   ]
  },
  {
   "cell_type": "code",
   "execution_count": null,
   "metadata": {
    "collapsed": true
   },
   "outputs": [],
   "source": [
    "mu_p = 1.0\n",
    "mu_g = -1.0\n",
    "sigma = 1\n",
    "number_points = 20\n",
    "pink = np.random.normal(mu_p,sigma,number_points)\n",
    "green = np.random.normal(mu_g,sigma,number_points)\n",
    "n = 2*number_points\n",
    "mu_p_hat=np.mean(pink)\n",
    "mu_g_hat=np.mean(green)\n",
    "pink_n = pink - mu_p_hat\n",
    "green_n = green - mu_g_hat\n",
    "sigma_hat = 1/(n-1)*(np.dot(pink_n.T,pink_n)+np.dot(green_n.T,green_n))\n",
    "training_data = np.concatenate((green,pink),axis=0)\n",
    "my_outputs=np.ndarray.flatten(np.array([np.repeat('pink',3),np.repeat('green',3)]))\n"
   ]
  },
  {
   "cell_type": "code",
   "execution_count": null,
   "metadata": {
    "collapsed": false
   },
   "outputs": [],
   "source": [
    "rng = np.random.RandomState(10)  # deterministic random data\n",
    "bins=np.linspace(-20,20,100)\n",
    "bins=np.append(bins,np.max([np.max(pink),np.max(green)]))\n",
    "a = np.hstack((pink,green))\n",
    "plt.ylim(top=np.max(bins))\n",
    "y1, x1,_ = plt.hist(pink, bins='auto',alpha=.4,color='pink',label='pink histogram')  # alpha level => transparent color (in case histog. overlap)\n",
    "y2, x2,_ = plt.hist(green,bins='auto',alpha=.4,color='green',label='green histogram')\n",
    "plt.ylim([0,1.1*np.max(np.array([y1,y2]))])\n",
    "plt.axvline(x_boundary,label='boundary value')\n",
    "plt.title(\"Histogram\")\n",
    "plt.legend(loc='upper right')\n",
    "plt.show()"
   ]
  },
  {
   "cell_type": "markdown",
   "metadata": {},
   "source": [
    "We will now loop over each observation to estimate the \"test MSE\""
   ]
  },
  {
   "cell_type": "code",
   "execution_count": null,
   "metadata": {
    "collapsed": false
   },
   "outputs": [],
   "source": [
    "#initialize my correct and incorrect counters\n",
    "correct_eval = 0\n",
    "incorrect_eval = 0 \n",
    "\n",
    "for kk in range(len(training_data)):\n",
    "\n",
    "    #for each training set consisting of all observations but observation \"kk\" \n",
    "    #we will estimate whether or not the \"test set\", ie the observation \"kk\" is correctly classified\n",
    "    #!! the following works only for data set with first half of the data set belonging to class 1, and second half to class 2\n",
    "    indices = [i for i in range(number_points) if i != kk]\n",
    "    if kk < number_points:\n",
    "        my_outputs_green = green[indices]\n",
    "        my_outputs_pink =  pink\n",
    "    else: \n",
    "        my_outputs_green = green\n",
    "        my_outputs_pink = pink[indices]\n",
    "    mu_pink = np.mean(my_outputs_pink)\n",
    "    mu_green = np.mean(my_outputs_green)\n",
    "    threshold = (mu_pink+mu_green)/2\n",
    "\n",
    "    if kk < number_points: \n",
    "        if training_data[kk] < threshold:\n",
    "            correct_eval = correct_eval + 1\n",
    "        else:\n",
    "            incorrect_eval = incorrect_eval + 1\n",
    "    else:\n",
    "        if training_data[kk] > threshold:\n",
    "            correct_eval = correct_eval + 1\n",
    "        else:\n",
    "            incorrect_eval = incorrect_eval + 1\n",
    "            \n",
    "print(correct_eval)\n",
    "print(incorrect_eval)"
   ]
  },
  {
   "cell_type": "markdown",
   "metadata": {},
   "source": [
    "The evaluation of the equivalent of test MSE for classications problem is the percentage of correctly evaluated observations \n",
    "\n"
   ]
  },
  {
   "cell_type": "code",
   "execution_count": null,
   "metadata": {
    "collapsed": false
   },
   "outputs": [],
   "source": [
    "correct_eval/(correct_eval+incorrect_eval)"
   ]
  },
  {
   "cell_type": "code",
   "execution_count": null,
   "metadata": {
    "collapsed": true
   },
   "outputs": [],
   "source": []
  }
 ],
 "metadata": {
  "anaconda-cloud": {},
  "kernelspec": {
   "display_name": "Python [conda env:sgo]",
   "language": "python",
   "name": "conda-env-sgo-py"
  },
  "language_info": {
   "codemirror_mode": {
    "name": "ipython",
    "version": 2
   },
   "file_extension": ".py",
   "mimetype": "text/x-python",
   "name": "python",
   "nbconvert_exporter": "python",
   "pygments_lexer": "ipython2",
   "version": "2.7.15"
  }
 },
 "nbformat": 4,
 "nbformat_minor": 2
}
