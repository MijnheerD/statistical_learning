{
 "cells": [
  {
   "cell_type": "markdown",
   "metadata": {},
   "source": [
    "## Very basic introduction to Python\n",
    "\n",
    "\n",
    "A few things to remember: \n",
    "\n",
    "1/ Python starts indices at 0 NOT at 1. \n",
    "\n",
    "2/ Python works with indentations (alignement is crucial!)\n",
    "\n",
    "3/ You need to load (or install) packages. numpy is nessary for about any computation. matplotlib for any graph. scipy for more evoved computations and sympy for symbolic computations. \n",
    "\n",
    "4/ To be on the safe side, 2/3 might give you 0 as an answer: use 2./3 to be  (in Python 2.7)\n",
    "\n",
    "5/ the square of 3 is computed via 3**2\n",
    "\n",
    "INSTALL PYTHON SIMPLE WAY : download anaconda https://www.anaconda.com/distribution/   choose Python 3.7 and the graphical installer (64-Bit Graphical Installer (654 MB))\n",
    "\n",
    "INSTALL PYTHON AND PYCHARM (more advanced): http://homepages.vub.ac.be/~sdebuyl/python_howto.pdf\n",
    "\n",
    "\n",
    "ref\n",
    "\n",
    "http://www.scipy-lectures.org/intro/index.html\n",
    "\n",
    "Refresh your mind: Inleiding tot de computerwetenschappen, BA1.\n"
   ]
  },
  {
   "cell_type": "code",
   "execution_count": 2,
   "metadata": {
    "collapsed": false
   },
   "outputs": [
    {
     "data": {
      "text/plain": [
       "0.3333333333333333"
      ]
     },
     "execution_count": 2,
     "metadata": {},
     "output_type": "execute_result"
    }
   ],
   "source": [
    "1/3  # you can comment using this # symbol. For some python version 1/3 gives 0"
   ]
  },
  {
   "cell_type": "code",
   "execution_count": 1,
   "metadata": {
    "collapsed": false
   },
   "outputs": [
    {
     "data": {
      "text/plain": [
       "0.3333333333333333"
      ]
     },
     "execution_count": 1,
     "metadata": {},
     "output_type": "execute_result"
    }
   ],
   "source": [
    "1./3"
   ]
  },
  {
   "cell_type": "code",
   "execution_count": 5,
   "metadata": {
    "collapsed": false
   },
   "outputs": [
    {
     "data": {
      "text/plain": [
       "9"
      ]
     },
     "execution_count": 5,
     "metadata": {},
     "output_type": "execute_result"
    }
   ],
   "source": [
    "3**2"
   ]
  },
  {
   "cell_type": "markdown",
   "metadata": {},
   "source": [
    "Ok for anything more, let's import numpy!  To use any numpy function, such as the sin function, you need to call it numpy.sin . You can rename the package to make that name shorter. Everyboby (almost) rename numpy by np. "
   ]
  },
  {
   "cell_type": "code",
   "execution_count": 2,
   "metadata": {
    "collapsed": true
   },
   "outputs": [],
   "source": [
    "import numpy as np"
   ]
  },
  {
   "cell_type": "code",
   "execution_count": 3,
   "metadata": {
    "collapsed": false
   },
   "outputs": [
    {
     "data": {
      "text/plain": [
       "0.0"
      ]
     },
     "execution_count": 3,
     "metadata": {},
     "output_type": "execute_result"
    }
   ],
   "source": [
    "np.sin(0)"
   ]
  },
  {
   "cell_type": "markdown",
   "metadata": {},
   "source": [
    "## Lists\n"
   ]
  },
  {
   "cell_type": "code",
   "execution_count": 14,
   "metadata": {
    "collapsed": false
   },
   "outputs": [],
   "source": [
    "mylist = [1,2,3]"
   ]
  },
  {
   "cell_type": "code",
   "execution_count": 15,
   "metadata": {
    "collapsed": false
   },
   "outputs": [
    {
     "data": {
      "text/plain": [
       "1"
      ]
     },
     "execution_count": 15,
     "metadata": {},
     "output_type": "execute_result"
    }
   ],
   "source": [
    "mylist[0]"
   ]
  },
  {
   "cell_type": "code",
   "execution_count": 16,
   "metadata": {
    "collapsed": false
   },
   "outputs": [
    {
     "data": {
      "text/plain": [
       "list"
      ]
     },
     "execution_count": 16,
     "metadata": {},
     "output_type": "execute_result"
    }
   ],
   "source": [
    "type(mylist)"
   ]
  },
  {
   "cell_type": "code",
   "execution_count": 17,
   "metadata": {
    "collapsed": false
   },
   "outputs": [
    {
     "data": {
      "text/plain": [
       "3"
      ]
     },
     "execution_count": 17,
     "metadata": {},
     "output_type": "execute_result"
    }
   ],
   "source": [
    "len(mylist)"
   ]
  },
  {
   "cell_type": "code",
   "execution_count": 18,
   "metadata": {
    "collapsed": false
   },
   "outputs": [
    {
     "data": {
      "text/plain": [
       "[1, 2, 3, 54]"
      ]
     },
     "execution_count": 18,
     "metadata": {},
     "output_type": "execute_result"
    }
   ],
   "source": [
    "mylist.append(54)\n",
    "mylist"
   ]
  },
  {
   "cell_type": "code",
   "execution_count": 19,
   "metadata": {
    "collapsed": false
   },
   "outputs": [
    {
     "data": {
      "text/plain": [
       "[1, 2, 3, 54, 1, 2, 3, 54]"
      ]
     },
     "execution_count": 19,
     "metadata": {},
     "output_type": "execute_result"
    }
   ],
   "source": [
    "mylist+mylist"
   ]
  },
  {
   "cell_type": "code",
   "execution_count": 20,
   "metadata": {
    "collapsed": false
   },
   "outputs": [
    {
     "data": {
      "text/plain": [
       "'hello'"
      ]
     },
     "execution_count": 20,
     "metadata": {},
     "output_type": "execute_result"
    }
   ],
   "source": [
    "myotherlist='a','hello',3\n",
    "myotherlist[1]"
   ]
  },
  {
   "cell_type": "markdown",
   "metadata": {},
   "source": [
    "## Numpy arrays and matrices"
   ]
  },
  {
   "cell_type": "code",
   "execution_count": 21,
   "metadata": {
    "collapsed": false
   },
   "outputs": [
    {
     "data": {
      "text/plain": [
       "array([2, 3, 1, 0])"
      ]
     },
     "execution_count": 21,
     "metadata": {},
     "output_type": "execute_result"
    }
   ],
   "source": [
    "x = np.array([2,3,1,0])\n",
    "x"
   ]
  },
  {
   "cell_type": "code",
   "execution_count": 22,
   "metadata": {
    "collapsed": false
   },
   "outputs": [
    {
     "data": {
      "text/plain": [
       "array([4, 6, 2, 0])"
      ]
     },
     "execution_count": 22,
     "metadata": {},
     "output_type": "execute_result"
    }
   ],
   "source": [
    "x+x"
   ]
  },
  {
   "cell_type": "code",
   "execution_count": 23,
   "metadata": {
    "collapsed": false
   },
   "outputs": [],
   "source": [
    "# define a two by two matrix: \n",
    "A = np.array([[1, -1], [1, 1]])\n",
    "# and compute its eigenvalues and eigenvectors\n",
    "w, v = np.linalg.eig(A)"
   ]
  },
  {
   "cell_type": "code",
   "execution_count": 24,
   "metadata": {
    "collapsed": false
   },
   "outputs": [
    {
     "data": {
      "text/plain": [
       "array([ 1.+1.j,  1.-1.j])"
      ]
     },
     "execution_count": 24,
     "metadata": {},
     "output_type": "execute_result"
    }
   ],
   "source": [
    "w"
   ]
  },
  {
   "cell_type": "code",
   "execution_count": 25,
   "metadata": {
    "collapsed": false
   },
   "outputs": [
    {
     "data": {
      "text/plain": [
       "(1+1j)"
      ]
     },
     "execution_count": 25,
     "metadata": {},
     "output_type": "execute_result"
    }
   ],
   "source": [
    "w[0]"
   ]
  },
  {
   "cell_type": "code",
   "execution_count": 26,
   "metadata": {
    "collapsed": false
   },
   "outputs": [
    {
     "data": {
      "text/plain": [
       "array([[ 0, -2],\n",
       "       [ 2,  0]])"
      ]
     },
     "execution_count": 26,
     "metadata": {},
     "output_type": "execute_result"
    }
   ],
   "source": [
    "# matrix multiplication\n",
    "np.dot(A,A)"
   ]
  },
  {
   "cell_type": "code",
   "execution_count": 28,
   "metadata": {
    "collapsed": false
   },
   "outputs": [
    {
     "data": {
      "text/plain": [
       "array([[1, 1],\n",
       "       [1, 1]])"
      ]
     },
     "execution_count": 28,
     "metadata": {},
     "output_type": "execute_result"
    }
   ],
   "source": [
    "# !!! this multiple elements by elements, it is not a matrix multiplication \n",
    "A*A"
   ]
  },
  {
   "cell_type": "code",
   "execution_count": 19,
   "metadata": {
    "collapsed": false
   },
   "outputs": [
    {
     "data": {
      "text/plain": [
       "array([[ 1, -1],\n",
       "       [ 1,  1]])"
      ]
     },
     "execution_count": 19,
     "metadata": {},
     "output_type": "execute_result"
    }
   ],
   "source": [
    "A"
   ]
  },
  {
   "cell_type": "markdown",
   "metadata": {},
   "source": [
    "## For and if"
   ]
  },
  {
   "cell_type": "code",
   "execution_count": 20,
   "metadata": {
    "collapsed": false
   },
   "outputs": [
    {
     "name": "stdout",
     "output_type": "stream",
     "text": [
      "0\n",
      "1\n"
     ]
    }
   ],
   "source": [
    "for k in range(2):\n",
    "    print(k)"
   ]
  },
  {
   "cell_type": "code",
   "execution_count": 21,
   "metadata": {
    "collapsed": false
   },
   "outputs": [
    {
     "name": "stdout",
     "output_type": "stream",
     "text": [
      "no\n"
     ]
    }
   ],
   "source": [
    "if 4<2:\n",
    "    print('yes')\n",
    "else:\n",
    "    print('no')"
   ]
  },
  {
   "cell_type": "markdown",
   "metadata": {},
   "source": [
    "## Plot"
   ]
  },
  {
   "cell_type": "code",
   "execution_count": 6,
   "metadata": {
    "collapsed": false
   },
   "outputs": [],
   "source": [
    "import matplotlib.pyplot as plt\n",
    "%matplotlib inline   "
   ]
  },
  {
   "cell_type": "code",
   "execution_count": 5,
   "metadata": {
    "collapsed": false
   },
   "outputs": [
    {
     "name": "stderr",
     "output_type": "stream",
     "text": [
      "/Users/sdebuyl/anaconda/envs/sgo/lib/python2.7/site-packages/ipykernel/__main__.py:3: UserWarning: \n",
      "This call to matplotlib.use() has no effect because the backend has already\n",
      "been chosen; matplotlib.use() must be called *before* pylab, matplotlib.pyplot,\n",
      "or matplotlib.backends is imported for the first time.\n",
      "\n",
      "The backend was *originally* set to 'module://ipykernel.pylab.backend_inline' by the following code:\n",
      "  File \"/Users/sdebuyl/anaconda/envs/sgo/lib/python2.7/runpy.py\", line 174, in _run_module_as_main\n",
      "    \"__main__\", fname, loader, pkg_name)\n",
      "  File \"/Users/sdebuyl/anaconda/envs/sgo/lib/python2.7/runpy.py\", line 72, in _run_code\n",
      "    exec code in run_globals\n",
      "  File \"/Users/sdebuyl/anaconda/envs/sgo/lib/python2.7/site-packages/ipykernel/__main__.py\", line 3, in <module>\n",
      "    app.launch_new_instance()\n",
      "  File \"/Users/sdebuyl/anaconda/envs/sgo/lib/python2.7/site-packages/traitlets/config/application.py\", line 658, in launch_instance\n",
      "    app.start()\n",
      "  File \"/Users/sdebuyl/anaconda/envs/sgo/lib/python2.7/site-packages/ipykernel/kernelapp.py\", line 499, in start\n",
      "    self.io_loop.start()\n",
      "  File \"/Users/sdebuyl/anaconda/envs/sgo/lib/python2.7/site-packages/tornado/ioloop.py\", line 1073, in start\n",
      "    handler_func(fd_obj, events)\n",
      "  File \"/Users/sdebuyl/anaconda/envs/sgo/lib/python2.7/site-packages/tornado/stack_context.py\", line 300, in null_wrapper\n",
      "    return fn(*args, **kwargs)\n",
      "  File \"/Users/sdebuyl/anaconda/envs/sgo/lib/python2.7/site-packages/zmq/eventloop/zmqstream.py\", line 450, in _handle_events\n",
      "    self._handle_recv()\n",
      "  File \"/Users/sdebuyl/anaconda/envs/sgo/lib/python2.7/site-packages/zmq/eventloop/zmqstream.py\", line 480, in _handle_recv\n",
      "    self._run_callback(callback, msg)\n",
      "  File \"/Users/sdebuyl/anaconda/envs/sgo/lib/python2.7/site-packages/zmq/eventloop/zmqstream.py\", line 432, in _run_callback\n",
      "    callback(*args, **kwargs)\n",
      "  File \"/Users/sdebuyl/anaconda/envs/sgo/lib/python2.7/site-packages/tornado/stack_context.py\", line 300, in null_wrapper\n",
      "    return fn(*args, **kwargs)\n",
      "  File \"/Users/sdebuyl/anaconda/envs/sgo/lib/python2.7/site-packages/ipykernel/kernelbase.py\", line 283, in dispatcher\n",
      "    return self.dispatch_shell(stream, msg)\n",
      "  File \"/Users/sdebuyl/anaconda/envs/sgo/lib/python2.7/site-packages/ipykernel/kernelbase.py\", line 233, in dispatch_shell\n",
      "    handler(stream, idents, msg)\n",
      "  File \"/Users/sdebuyl/anaconda/envs/sgo/lib/python2.7/site-packages/ipykernel/kernelbase.py\", line 399, in execute_request\n",
      "    user_expressions, allow_stdin)\n",
      "  File \"/Users/sdebuyl/anaconda/envs/sgo/lib/python2.7/site-packages/ipykernel/ipkernel.py\", line 208, in do_execute\n",
      "    res = shell.run_cell(code, store_history=store_history, silent=silent)\n",
      "  File \"/Users/sdebuyl/anaconda/envs/sgo/lib/python2.7/site-packages/ipykernel/zmqshell.py\", line 537, in run_cell\n",
      "    return super(ZMQInteractiveShell, self).run_cell(*args, **kwargs)\n",
      "  File \"/Users/sdebuyl/anaconda/envs/sgo/lib/python2.7/site-packages/IPython/core/interactiveshell.py\", line 2715, in run_cell\n",
      "    self.events.trigger('post_run_cell')\n",
      "  File \"/Users/sdebuyl/anaconda/envs/sgo/lib/python2.7/site-packages/IPython/core/events.py\", line 74, in trigger\n",
      "    func(*args, **kwargs)\n",
      "  File \"/Users/sdebuyl/anaconda/envs/sgo/lib/python2.7/site-packages/ipykernel/pylab/backend_inline.py\", line 164, in configure_once\n",
      "    activate_matplotlib(backend)\n",
      "  File \"/Users/sdebuyl/anaconda/envs/sgo/lib/python2.7/site-packages/IPython/core/pylabtools.py\", line 296, in activate_matplotlib\n",
      "    matplotlib.pyplot.switch_backend(backend)\n",
      "  File \"/Users/sdebuyl/anaconda/envs/sgo/lib/python2.7/site-packages/matplotlib/pyplot.py\", line 231, in switch_backend\n",
      "    matplotlib.use(newbackend, warn=False, force=True)\n",
      "  File \"/Users/sdebuyl/anaconda/envs/sgo/lib/python2.7/site-packages/matplotlib/__init__.py\", line 1422, in use\n",
      "    reload(sys.modules['matplotlib.backends'])\n",
      "  File \"/Users/sdebuyl/anaconda/envs/sgo/lib/python2.7/site-packages/matplotlib/backends/__init__.py\", line 16, in <module>\n",
      "    line for line in traceback.format_stack()\n",
      "\n",
      "\n",
      "  app.launch_new_instance()\n"
     ]
    }
   ],
   "source": [
    "import numpy as np\n",
    "import matplotlib\n",
    "matplotlib.use('tkagg')\n",
    "\n",
    "import matplotlib.pyplot as plt"
   ]
  },
  {
   "cell_type": "code",
   "execution_count": 7,
   "metadata": {
    "collapsed": false
   },
   "outputs": [
    {
     "data": {
      "image/png": "[encoded data removed]",
      "text/plain": [
       "<Figure size 432x288 with 1 Axes>"
      ]
     },
     "metadata": {
      "needs_background": "light"
     },
     "output_type": "display_data"
    }
   ],
   "source": [
    "#generate some data to plot \n",
    "\n",
    "t = np.linspace(0.0, 5.0, num=20) #gives you an array with 20 equally spaced entries from 0 to 5. \n",
    "y0 = t #we will plot the function t\n",
    "y1 = t**2 #we will plot the function t^2\n",
    "y2 = np.exp(t) #and the exponential function\n",
    "# red dashes, blue squares and green triangles\n",
    "plt.plot(t, y0,'r--',t,y1,'bs',t, y2,'g^')\n",
    "plt.show()"
   ]
  },
  {
   "cell_type": "code",
   "execution_count": 8,
   "metadata": {
    "collapsed": false
   },
   "outputs": [
    {
     "data": {
      "image/png": "[encoded data removed]",
      "text/plain": [
       "<Figure size 432x288 with 1 Axes>"
      ]
     },
     "metadata": {
      "needs_background": "light"
     },
     "output_type": "display_data"
    }
   ],
   "source": [
    "#another example, with title, axis names.. \n",
    "plt.title('the square function')\n",
    "plt.xlabel('t')\n",
    "plt.ylabel('y')\n",
    "plt.plot(t,y1)\n",
    "#plt.savefig('myfigure.pdf') #(if you want to save the figure, uncomment this line)\n",
    "plt.show()"
   ]
  },
  {
   "cell_type": "markdown",
   "metadata": {},
   "source": [
    "It is often useful to create a figure with two separated plots (or to combines plots with two different axes on the same plot)\n",
    "\n",
    "You need then to create a figure 'fig' and you associate axes to each data set you want to represent : "
   ]
  },
  {
   "cell_type": "code",
   "execution_count": 9,
   "metadata": {
    "collapsed": true
   },
   "outputs": [],
   "source": [
    "from matplotlib import gridspec"
   ]
  },
  {
   "cell_type": "code",
   "execution_count": 10,
   "metadata": {
    "collapsed": false
   },
   "outputs": [
    {
     "data": {
      "image/png": "[encoded data removed]",
      "text/plain": [
       "<Figure size 432x288 with 4 Axes>"
      ]
     },
     "metadata": {
      "needs_background": "light"
     },
     "output_type": "display_data"
    }
   ],
   "source": [
    "fig = plt.figure()\n",
    "#create a 2x2 grid for 4 plots:\n",
    "gs = gridspec.GridSpec(2,2)\n",
    "\n",
    "#start by creating the first plot with axes \"ax0\"\n",
    "ax0 = fig.add_subplot(gs[0])  #this means that for your figure \"fig\", you add axes for the first plot, ie gs[0]\n",
    "ax0.plot(t,y0) #here you plot y0 versus t on the axis x0 of your first plot. \n",
    "ax0.set_xlim([0,np.max(t)])\n",
    "#ax.set_ylim([0.1,1000])\n",
    "ax0.set_title('first plot')\n",
    "#ax.set_yscale('log')\n",
    "ax0.set_ylabel('y0')\n",
    "ax0.set_xlabel('t')\n",
    "\n",
    "\n",
    "#create the second plot with axes \"ax1\" (which corresponds on you grid to gs[1])\n",
    "ax1 = fig.add_subplot(gs[1])\n",
    "ax1.plot(t,y1)\n",
    "ax1.set_xlim([0,np.max(t)])\n",
    "ax1.set_title('second plot')\n",
    "ax1.set_ylabel('y1')\n",
    "ax1.set_xlabel('t')\n",
    "\n",
    "\n",
    "#create the third plot with axes \"ax2\"\n",
    "ax2 = fig.add_subplot(gs[2])\n",
    "ax2.scatter(t,y2)\n",
    "ax2.set_xlim([0,np.max(t)])\n",
    "ax2.set_title('third plot')\n",
    "ax2.set_ylabel('y2')\n",
    "ax2.set_xlabel('t')\n",
    "plt.tight_layout()\n",
    "\n",
    "#create the last plot with axes \"ax3\"\n",
    "ax3 = fig.add_subplot(gs[3])\n",
    "ax3.plot(t,np.random.normal(0,1,len(t)))\n",
    "ax3.set_xlim([0,np.max(t)])\n",
    "ax3.set_title('fourth plot')\n",
    "ax3.set_ylabel('y2')\n",
    "ax3.set_xlabel('t')\n",
    "plt.tight_layout()\n",
    "\n",
    "#fig.savefig('noise.pdf')\n",
    "plt.show()"
   ]
  },
  {
   "cell_type": "markdown",
   "metadata": {
    "collapsed": true
   },
   "source": [
    "Let us now represent two data with different \"y\" values but same \"x\" values on the same plot. \n",
    "You also need do work fix axes. "
   ]
  },
  {
   "cell_type": "code",
   "execution_count": 17,
   "metadata": {
    "collapsed": false
   },
   "outputs": [
    {
     "data": {
      "image/png": "[encoded data removed]",
      "text/plain": [
       "<Figure size 432x288 with 3 Axes>"
      ]
     },
     "metadata": {
      "needs_background": "light"
     },
     "output_type": "display_data"
    }
   ],
   "source": [
    "fig = plt.figure()\n",
    "\n",
    "\n",
    "#start by creating axes \"ax0\" for \"x-y\" data:\n",
    "ax0 = fig.add_subplot(1,1,1)  #this means that for your figure \"fig\", you add axes your plot.\n",
    "#(1,1,1) means 1 line, 1 column, and the last \"1\" is because we do only one plot here\n",
    "ax0.plot(t,y0) #here you plot y0 versus t on the axis x0 of your first plot. \n",
    "ax0.set_ylabel('blue curve')\n",
    "ax0.set_xlabel('x')\n",
    "#then we define a new set of axes (for the same plot), why are rotated\n",
    "ax1 = ax0.twinx().twiny() \n",
    "ax1.set_ylabel('red curve')\n",
    "ax1.plot(t,y1,c='r')\n",
    "\n",
    "plt.show()"
   ]
  },
  {
   "cell_type": "markdown",
   "metadata": {},
   "source": [
    "## Define functions"
   ]
  },
  {
   "cell_type": "code",
   "execution_count": 45,
   "metadata": {
    "collapsed": false
   },
   "outputs": [
    {
     "data": {
      "text/plain": [
       "0.5816580779322047"
      ]
     },
     "execution_count": 45,
     "metadata": {},
     "output_type": "execute_result"
    }
   ],
   "source": [
    "def fxx(X,K,n):\n",
    "    \"\"\" this function has tree inputs and return a single output \"\"\"\n",
    "    return K**n/(K**n+X**n)\n",
    "\n",
    "fxx(1,3,.3)\n"
   ]
  },
  {
   "cell_type": "code",
   "execution_count": 46,
   "metadata": {
    "collapsed": false
   },
   "outputs": [
    {
     "data": {
      "text/plain": [
       "0.34881843139365887"
      ]
     },
     "execution_count": 46,
     "metadata": {},
     "output_type": "execute_result"
    }
   ],
   "source": [
    "def fXX(X,K,n):\n",
    "    \"\"\" this function accepts inputs which are arrays, it computes the product of all fxx\"\"\"\n",
    "    dim_x=len(X)\n",
    "    temp_return=1\n",
    "    for i in range(dim_x):\n",
    "        temp_return=temp_return*fxx(X[i],K[i],n)\n",
    "    return temp_return\n",
    "\n",
    "X=[2.3,4,5]\n",
    "K=[3,6,10]\n",
    "n=2\n",
    "\n",
    "\n",
    "fXX(X,K,n)"
   ]
  },
  {
   "cell_type": "markdown",
   "metadata": {},
   "source": [
    "## Export import data"
   ]
  },
  {
   "cell_type": "code",
   "execution_count": null,
   "metadata": {
    "collapsed": true
   },
   "outputs": [],
   "source": [
    "linesnames=['Alabama', 'Alaska', 'Arizona', 'Arkansas', 'California', 'Colorado',\n",
    "       'Connecticut', 'Delaware', 'Florida', 'Georgia', 'Hawaii', 'Idaho',\n",
    "       'Illinois', 'Indiana', 'Iowa', 'Kansas', 'Kentucky', 'Louisiana',\n",
    "       'Maine', 'Maryland', 'Massachusetts', 'Michigan', 'Minnesota',\n",
    "       'Mississippi', 'Missouri', 'Montana', 'Nebraska', 'Nevada',\n",
    "       'New Hampshire', 'New Jersey', 'New Mexico', 'New York',\n",
    "       'North Carolina', 'North Dakota', 'Ohio', 'Oklahoma', 'Oregon',\n",
    "       'Pennsylvania', 'Rhode Island', 'South Carolina', 'South Dakota',\n",
    "       'Tennessee', 'Texas', 'Utah', 'Vermont', 'Virginia', 'Washington',\n",
    "       'West Virginia', 'Wisconsin', 'Wyoming']\n",
    "columnsnames=['Murder', 'Assault', 'UrbanPop', 'Rape']\n",
    "\n",
    "np.savetxt('states.txt',linesnames, fmt='%s')\n",
    "\n",
    "np.savetxt('crime_var.txt',columnsnames,fmt='%s')\n",
    "#remark : if fmt='%s' doesn't work use dtype='U'\n",
    "\n",
    "#then if you want to import back\n",
    "\n",
    "\n",
    "linesnames_imported=np.genfromtxt('states.txt',delimiter='\\n',dtype='U')\n",
    "columnsnames_imported=np.genfromtxt('crime_var.txt',delimiter='\\n',dtype='U')"
   ]
  }
 ],
 "metadata": {
  "anaconda-cloud": {},
  "kernelspec": {
   "display_name": "Python [conda env:sgo]",
   "language": "python",
   "name": "conda-env-sgo-py"
  },
  "language_info": {
   "codemirror_mode": {
    "name": "ipython",
    "version": 2
   },
   "file_extension": ".py",
   "mimetype": "text/x-python",
   "name": "python",
   "nbconvert_exporter": "python",
   "pygments_lexer": "ipython2",
   "version": "2.7.15"
  }
 },
 "nbformat": 4,
 "nbformat_minor": 1
}
